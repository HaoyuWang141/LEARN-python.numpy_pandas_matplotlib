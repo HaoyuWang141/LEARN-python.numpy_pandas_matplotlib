{
 "cells": [
  {
   "cell_type": "markdown",
   "metadata": {},
   "source": [
    "# Python数据分析之展示-1"
   ]
  },
  {
   "cell_type": "markdown",
   "metadata": {},
   "source": [
    "## 1.Matplotlib基础 "
   ]
  },
  {
   "cell_type": "markdown",
   "metadata": {},
   "source": [
    "**matplotlib**是一个**Python**的 2D 图形包。pyplot封装了很多画图的函数"
   ]
  },
  {
   "cell_type": "markdown",
   "metadata": {},
   "source": [
    "导入相关的包："
   ]
  },
  {
   "cell_type": "code",
   "execution_count": 3,
   "metadata": {},
   "outputs": [],
   "source": [
    "import matplotlib.pyplot as plt\n",
    "import numpy as np"
   ]
  },
  {
   "cell_type": "markdown",
   "metadata": {},
   "source": [
    "``matplotlib.pyplot``包含一系列类似**MATLAB**中绘图函数的相关函数。每个``matplotlib.pyplot``中的函数对当前的图像进行一些修改，例如：产生新的图像，在图像中产生新的绘图区域，在绘图区域中画线，给绘图加上标记，等等......``matplotlib.pyplot``会自动记住当前的图像和绘图区域，因此这些函数会直接作用在当前的图像上。\n",
    "\n",
    "在实际的使用过程中，常常以``plt``作为``matplotlib.pyplot``的省略。"
   ]
  },
  {
   "cell_type": "markdown",
   "metadata": {},
   "source": [
    "### plt.show()函数 "
   ]
  },
  {
   "cell_type": "markdown",
   "metadata": {},
   "source": [
    "默认情况下，``matplotlib.pyplot``不会直接显示图像，只有调用``plt.show()``函数时，图像才会显示出来。\n",
    "\n",
    "``plt.show()``默认是在新窗口打开一幅图像，并且提供了对图像进行操作的按钮。\n",
    "\n",
    "不过在``ipython``命令中，我们可以将它插入``notebook``中，并且不需要调用``plt.show()``也可以显示：\n",
    "\n",
    "* ``%matplotlib notebook``\n",
    "* ``%matplotlib inline``\n",
    "\n",
    "不过在实际写程序中，我们还是习惯调用``plt.show()``函数将图像显示出来。"
   ]
  },
  {
   "cell_type": "code",
   "execution_count": 3,
   "metadata": {},
   "outputs": [
    {
     "name": "stderr",
     "output_type": "stream",
     "text": [
      "UsageError: unrecognized arguments: #魔术命令\n"
     ]
    }
   ],
   "source": [
    "%matplotlib inline #魔术命令"
   ]
  },
  {
   "cell_type": "markdown",
   "metadata": {},
   "source": [
    "### plt.plot()函数 "
   ]
  },
  {
   "cell_type": "markdown",
   "metadata": {},
   "source": [
    "#### 例子"
   ]
  },
  {
   "cell_type": "markdown",
   "metadata": {},
   "source": [
    "``plt.plot()``函数可以用来绘线型图："
   ]
  },
  {
   "cell_type": "code",
   "execution_count": 12,
   "metadata": {},
   "outputs": [
    {
     "data": {
      "text/plain": [
       "Text(0.5, 0, 'x轴')"
      ]
     },
     "execution_count": 12,
     "metadata": {},
     "output_type": "execute_result"
    },
    {
     "data": {
      "image/png": "[encoded data removed]",
      "text/plain": [
       "<Figure size 432x288 with 1 Axes>"
      ]
     },
     "metadata": {
      "needs_background": "light"
     },
     "output_type": "display_data"
    }
   ],
   "source": [
    "plt.plot([1,2,3,4],linewidth=10) #默认以列表的索引作为x，输入的是y\n",
    "plt.ylabel('y')\n",
    "plt.xlabel(\"x轴\") #设定标签，使用中文的话后面需要再设定"
   ]
  },
  {
   "cell_type": "markdown",
   "metadata": {},
   "source": [
    "#### 基本用法"
   ]
  },
  {
   "cell_type": "markdown",
   "metadata": {},
   "source": [
    "``plot``函数基本的用法：\n",
    "\n",
    "指定x和y\n",
    "\n",
    "* ``plt.plot(x,y)``\n",
    "\n",
    "默认参数，x为0~N-1\n",
    "\n",
    "* ``plt.plot(y)``\n",
    "\n",
    "因此，在上面的例子中，我们没有给定``x``的值，所以其默认值为``[0,1,2,3]``\n",
    "\n",
    "传入``x``和``y``："
   ]
  },
  {
   "cell_type": "code",
   "execution_count": 27,
   "metadata": {},
   "outputs": [
    {
     "data": {
      "image/png": "[encoded data removed]",
      "text/plain": [
       "<Figure size 432x288 with 1 Axes>"
      ]
     },
     "metadata": {
      "needs_background": "light"
     },
     "output_type": "display_data"
    }
   ],
   "source": [
    "plt.plot([1,2,3,4],[1,4,9,16])\n",
    "plt.show()"
   ]
  },
  {
   "cell_type": "markdown",
   "metadata": {},
   "source": [
    "#### 字符参数"
   ]
  },
  {
   "cell_type": "markdown",
   "metadata": {},
   "source": [
    "和**MATLAB**中类似，我们还可以用字符来指定绘图的格式：\n",
    "\n",
    "表示颜色的字符参数有：\n",
    "\n",
    "|字符|颜色|\n",
    "|-:|-:|\n",
    "|``'b'``|蓝色，blue|\n",
    "|``'g'``|绿色，green|\n",
    "|``'r'``|红色，red|\n",
    "|``'c'``|青色，cyan|\n",
    "|``'m'``|品红，magenta|\n",
    "|``'y'``|黄色，yellow|\n",
    "|``'k'``|黑色，black|\n",
    "|``'w'``|白色，white|\n",
    "\n",
    "表示类型的字符参数有：\n",
    "\n",
    "|字符|类型|字符|类型|\n",
    "|-:|-:|-:|-:|\n",
    "|``'-'``|实线|``'--'``|虚线|\n",
    "|``'-.'``|虚点线|``':'``|点线|\n",
    "|``'.'``|点|``','``|像素点|\n",
    "|``'o'``|圆点|``'v'``|下三角点|\n",
    "|``'^'``|上三角点|``'<'``|左三角点|\n",
    "|``'>'``|右三角点|``'1'``|下三叉点|\n",
    "|``'2'``|上三叉点|``'3'``|左三叉点|\n",
    "|``'4'``|右三叉点|``'s'``|正方点|\n",
    "|``'p'``|五角点|``'*'``|星形点|\n",
    "|``'h'``|六边形点1|``'H'``|六边形点2|\n",
    "|``'+'``|加号点|``'x'``|乘号点|\n",
    "|``'D'``|实心菱形点|``'d'``|瘦菱形点|\n",
    "|``'_'``|横线点|``'.-'``|点线图|\n",
    "\n",
    "例如我们要画出红色圆点："
   ]
  },
  {
   "cell_type": "code",
   "execution_count": 18,
   "metadata": {},
   "outputs": [
    {
     "data": {
      "image/png": "[encoded data removed]",
      "text/plain": [
       "<Figure size 432x288 with 1 Axes>"
      ]
     },
     "metadata": {
      "needs_background": "light"
     },
     "output_type": "display_data"
    }
   ],
   "source": [
    "plt.plot([1,2,3,4],[1,4,9,16],\"*\") #也可以是or，没顺序要求\n",
    "plt.show()"
   ]
  },
  {
   "cell_type": "markdown",
   "metadata": {},
   "source": [
    "可以看出，有两个点在图像的边缘，因此，我们需要改变轴的显示范围。"
   ]
  },
  {
   "cell_type": "markdown",
   "metadata": {},
   "source": [
    "#### 显示范围"
   ]
  },
  {
   "cell_type": "markdown",
   "metadata": {},
   "source": [
    "与**MATLAB**类似，这里可以使用``axis``函数指定坐标轴显示的范围：\n",
    "```python\n",
    "plt.axis([xmin, xmax, ymin, ymax])\n",
    "```"
   ]
  },
  {
   "cell_type": "code",
   "execution_count": 31,
   "metadata": {},
   "outputs": [
    {
     "data": {
      "image/png": "[encoded data removed]",
      "text/plain": [
       "<Figure size 432x288 with 1 Axes>"
      ]
     },
     "metadata": {
      "needs_background": "light"
     },
     "output_type": "display_data"
    }
   ],
   "source": [
    "plt.plot([1,2,3,4],[1,4,9,16],\"g*\")\n",
    "plt.axis([0,8,-10,30])\n",
    "plt.show()"
   ]
  },
  {
   "cell_type": "markdown",
   "metadata": {},
   "source": [
    "#### 传入``Numpy``数组 "
   ]
  },
  {
   "cell_type": "markdown",
   "metadata": {},
   "source": [
    "之前我们传给``plot``的参数都是列表，事实上，向``plot``中传入``numpy``数组是更常用的做法。事实上，如果传入的是列表，``matplotlib``会在内部将它转化成数组再进行处理："
   ]
  },
  {
   "cell_type": "markdown",
   "metadata": {},
   "source": [
    "在一个图里面画多条线"
   ]
  },
  {
   "cell_type": "code",
   "execution_count": 18,
   "metadata": {},
   "outputs": [
    {
     "data": {
      "image/png": "[encoded data removed]",
      "text/plain": [
       "<Figure size 432x288 with 1 Axes>"
      ]
     },
     "metadata": {
      "needs_background": "light"
     },
     "output_type": "display_data"
    }
   ],
   "source": [
    "t = np.arange(0.,5.,0.2) #左闭右开从0到5间隔0.2\n",
    "plt.plot(t,t,\"r--\",\n",
    "        t,t**2,\"bs\",\n",
    "        t,t**3,\"g^\")\n",
    "plt.show()"
   ]
  },
  {
   "cell_type": "markdown",
   "metadata": {},
   "source": [
    "#### 传入多组数据 "
   ]
  },
  {
   "cell_type": "markdown",
   "metadata": {},
   "source": [
    "事实上，在上面的例子中，我们不仅仅向``plot``函数传入了数组，还传入了多组``(x,y,format_str)``参数，它们在同一张图上显示。\n",
    "\n",
    "这意味着我们不需要使用多个``plot``函数来画多组数组，只需要可以将这些组合放到一个``plot``函数中去即可。"
   ]
  },
  {
   "cell_type": "markdown",
   "metadata": {},
   "source": [
    "#### 线条属性 "
   ]
  },
  {
   "cell_type": "markdown",
   "metadata": {},
   "source": [
    "之前提到，我们可以用字符串来控制线条的属性，事实上还可以用关键词来改变线条的性质，例如``linewidth``可以改变线条的宽度，``color``可以改变线条的颜色："
   ]
  },
  {
   "cell_type": "code",
   "execution_count": 33,
   "metadata": {},
   "outputs": [
    {
     "data": {
      "image/png": "[encoded data removed]",
      "text/plain": [
       "<Figure size 432x288 with 1 Axes>"
      ]
     },
     "metadata": {
      "needs_background": "light"
     },
     "output_type": "display_data"
    }
   ],
   "source": [
    "x = np.linspace(-np.pi,np.pi)\n",
    "y = np.sin(x)\n",
    "plt.plot(x,y,linewidth = 4.0,color = 'r') #细节调整的两个方式\n",
    "plt.show()"
   ]
  },
  {
   "cell_type": "markdown",
   "metadata": {},
   "source": [
    "#### 使用plt.plot()的返回值来设置线条属性"
   ]
  },
  {
   "cell_type": "markdown",
   "metadata": {},
   "source": [
    "``plot``函数返回一个``Line2D``对象组成的列表，每个对象代表输入的一对组合，例如：\n",
    "\n",
    "* line1,line2 为两个 Line2D 对象\n",
    "```python\n",
    "line1, line2 = plt.plot(x1, y1, x2, y2)\n",
    "```\n",
    "* 返回3个 Line2D 对象组成的列表\n",
    "```python\n",
    "lines = plt.plot(x1, y1, x2, y2, x3, y3)\n",
    "```\n",
    "\n",
    "我们可以使用这个返回值来对线条属性进行设置："
   ]
  },
  {
   "cell_type": "code",
   "execution_count": 35,
   "metadata": {},
   "outputs": [
    {
     "data": {
      "image/png": "[encoded data removed]",
      "text/plain": [
       "<Figure size 432x288 with 1 Axes>"
      ]
     },
     "metadata": {
      "needs_background": "light"
     },
     "output_type": "display_data"
    }
   ],
   "source": [
    "line1,line2 = plt.plot(x,y,\"r-\",x,y+1,\"g-\")\n",
    "line1.set_antialiased(False)  #抗锯齿\n",
    "plt.show()"
   ]
  },
  {
   "cell_type": "code",
   "execution_count": 25,
   "metadata": {},
   "outputs": [
    {
     "data": {
      "image/png": "[encoded data removed]",
      "text/plain": [
       "<Figure size 432x288 with 1 Axes>"
      ]
     },
     "metadata": {
      "needs_background": "light"
     },
     "output_type": "display_data"
    }
   ],
   "source": [
    "line = plt.plot(x,y,\"r-\",x,y+1,\"g-\")\n",
    "line[1].set_antialiased(False) #列表\n",
    "plt.show()"
   ]
  },
  {
   "cell_type": "markdown",
   "metadata": {},
   "source": [
    "#### plt.setp() 修改线条性质"
   ]
  },
  {
   "cell_type": "markdown",
   "metadata": {},
   "source": [
    "更方便的做法是使用``plt``的``setp``函数："
   ]
  },
  {
   "cell_type": "code",
   "execution_count": 38,
   "metadata": {},
   "outputs": [
    {
     "data": {
      "text/plain": [
       "[None, None]"
      ]
     },
     "execution_count": 38,
     "metadata": {},
     "output_type": "execute_result"
    },
    {
     "data": {
      "image/png": "[encoded data removed]",
      "text/plain": [
       "<Figure size 432x288 with 1 Axes>"
      ]
     },
     "metadata": {
      "needs_background": "light"
     },
     "output_type": "display_data"
    }
   ],
   "source": [
    "line = plt.plot(x,y)\n",
    "# plt.setp(line, color = 'g',linewidth = 4)\n",
    "plt.setp(line,\"color\",'r',\"linewidth\",4) #matlab风格"
   ]
  },
  {
   "cell_type": "markdown",
   "metadata": {},
   "source": [
    "### 子图 "
   ]
  },
  {
   "cell_type": "markdown",
   "metadata": {},
   "source": [
    "``figure()``函数会产生一个指定编号为``num``的图：\n",
    "```python\n",
    "plt.figure(num)\n",
    "```\n",
    "这里，``figure(1)``其实是可以省略的，因为默认情况下``plt``会自动产生一幅图像。\n",
    "\n",
    "使用``subplot``可以在一幅图中生成多个子图，其参数为：\n",
    "```python\n",
    "plt.subplot(numrows, numcols, fignum)\n",
    "```\n",
    "当``numrows * numncols < 10``时，中间的逗号可以省略，因此``plt.subplot(211)``就相当于``plt.subplot(2,1,1)``。"
   ]
  },
  {
   "cell_type": "code",
   "execution_count": 43,
   "metadata": {},
   "outputs": [
    {
     "data": {
      "image/png": "[encoded data removed]",
      "text/plain": [
       "<Figure size 720x432 with 2 Axes>"
      ]
     },
     "metadata": {
      "needs_background": "light"
     },
     "output_type": "display_data"
    }
   ],
   "source": [
    "def f(t):\n",
    "    return np.exp(-t)*np.cos(2*np.pi*t)\n",
    "\n",
    "t1 = np.arange(0.0,5.0,0.1)\n",
    "t2 = np.arange(0.0,4.0,0.02)\n",
    "\n",
    "plt.figure(figsize = (10,6))\n",
    "plt.subplot(211)\n",
    "plt.plot(t1,f(t1),\"bo\",t2,f(t2),'k') #子图1上有两条线\n",
    "\n",
    "plt.subplot(212)\n",
    "plt.plot(t2,np.cos(2*np.pi*t2),\"r.-\")\n",
    "plt.show()"
   ]
  },
  {
   "cell_type": "markdown",
   "metadata": {},
   "source": [
    "## 2 电影数据绘图"
   ]
  },
  {
   "cell_type": "markdown",
   "metadata": {},
   "source": [
    "**在了解绘图的基础知识之后，我们可以对电影数据进行可视化分析。**"
   ]
  },
  {
   "cell_type": "code",
   "execution_count": 44,
   "metadata": {},
   "outputs": [],
   "source": [
    "import warnings\n",
    "warnings.filterwarnings(\"ignore\") #关闭一些可能出现但对数据分析并无影响的警告"
   ]
  },
  {
   "cell_type": "code",
   "execution_count": 45,
   "metadata": {},
   "outputs": [],
   "source": [
    "import pandas as pd\n",
    "import numpy as np\n",
    "import matplotlib.pyplot as plt"
   ]
  },
  {
   "cell_type": "code",
   "execution_count": 46,
   "metadata": {},
   "outputs": [],
   "source": [
    "plt.rcParams[\"font.sans-serif\"] = [\"SimHei\"] #解决中文字符乱码的问题\n",
    "plt.rcParams[\"axes.unicode_minus\"] = False #正常显示负号"
   ]
  },
  {
   "cell_type": "code",
   "execution_count": 49,
   "metadata": {},
   "outputs": [],
   "source": [
    "# df = pd.read_excel(\n",
    "    # r\"C:\\Users\\Lovetianyi\\Desktop\\python\\作业5\\movie_data3.xlsx\", index_col=0)\n",
    "df = pd.read_excel(\n",
    "    \"../lec5/movie_data3.xlsx\", index_col=0)\n"
   ]
  },
  {
   "cell_type": "code",
   "execution_count": 50,
   "metadata": {},
   "outputs": [
    {
     "data": {
      "text/html": [
       "<div>\n",
       "<style scoped>\n",
       "    .dataframe tbody tr th:only-of-type {\n",
       "        vertical-align: middle;\n",
       "    }\n",
       "\n",
       "    .dataframe tbody tr th {\n",
       "        vertical-align: top;\n",
       "    }\n",
       "\n",
       "    .dataframe thead th {\n",
       "        text-align: right;\n",
       "    }\n",
       "</style>\n",
       "<table border=\"1\" class=\"dataframe\">\n",
       "  <thead>\n",
       "    <tr style=\"text-align: right;\">\n",
       "      <th></th>\n",
       "      <th>产地</th>\n",
       "      <th>年代</th>\n",
       "      <th>名字</th>\n",
       "      <th>投票人数</th>\n",
       "      <th>类型</th>\n",
       "      <th>上映时间</th>\n",
       "      <th>时长</th>\n",
       "      <th>评分</th>\n",
       "      <th>首映地点</th>\n",
       "      <th>评分等级</th>\n",
       "      <th>热门程度</th>\n",
       "    </tr>\n",
       "  </thead>\n",
       "  <tbody>\n",
       "    <tr>\n",
       "      <th>0</th>\n",
       "      <td>美国</td>\n",
       "      <td>1957</td>\n",
       "      <td>控方证人</td>\n",
       "      <td>42995</td>\n",
       "      <td>剧情/悬疑/犯罪</td>\n",
       "      <td>1957-12-17 00:00:00</td>\n",
       "      <td>116</td>\n",
       "      <td>9.5</td>\n",
       "      <td>美国</td>\n",
       "      <td>A</td>\n",
       "      <td>A</td>\n",
       "    </tr>\n",
       "    <tr>\n",
       "      <th>1</th>\n",
       "      <td>意大利</td>\n",
       "      <td>1997</td>\n",
       "      <td>美丽人生</td>\n",
       "      <td>327855</td>\n",
       "      <td>剧情/喜剧/爱情</td>\n",
       "      <td>1997-12-20 00:00:00</td>\n",
       "      <td>116</td>\n",
       "      <td>9.5</td>\n",
       "      <td>意大利</td>\n",
       "      <td>A</td>\n",
       "      <td>A</td>\n",
       "    </tr>\n",
       "    <tr>\n",
       "      <th>2</th>\n",
       "      <td>美国</td>\n",
       "      <td>1994</td>\n",
       "      <td>阿甘正传</td>\n",
       "      <td>580897</td>\n",
       "      <td>剧情/爱情</td>\n",
       "      <td>1994-06-23 00:00:00</td>\n",
       "      <td>142</td>\n",
       "      <td>9.4</td>\n",
       "      <td>洛杉矶首映</td>\n",
       "      <td>A</td>\n",
       "      <td>A</td>\n",
       "    </tr>\n",
       "    <tr>\n",
       "      <th>3</th>\n",
       "      <td>中国大陆</td>\n",
       "      <td>1993</td>\n",
       "      <td>霸王别姬</td>\n",
       "      <td>478523</td>\n",
       "      <td>剧情/爱情/同性</td>\n",
       "      <td>1993-01-01 00:00:00</td>\n",
       "      <td>171</td>\n",
       "      <td>9.4</td>\n",
       "      <td>香港</td>\n",
       "      <td>A</td>\n",
       "      <td>A</td>\n",
       "    </tr>\n",
       "    <tr>\n",
       "      <th>4</th>\n",
       "      <td>美国</td>\n",
       "      <td>2012</td>\n",
       "      <td>泰坦尼克号</td>\n",
       "      <td>157074</td>\n",
       "      <td>剧情/爱情/灾难</td>\n",
       "      <td>2012-04-10 00:00:00</td>\n",
       "      <td>194</td>\n",
       "      <td>9.4</td>\n",
       "      <td>中国大陆</td>\n",
       "      <td>A</td>\n",
       "      <td>A</td>\n",
       "    </tr>\n",
       "  </tbody>\n",
       "</table>\n",
       "</div>"
      ],
      "text/plain": [
       "     产地    年代      名字    投票人数        类型                 上映时间   时长   评分   首映地点  \\\n",
       "0    美国  1957    控方证人   42995  剧情/悬疑/犯罪  1957-12-17 00:00:00  116  9.5     美国   \n",
       "1   意大利  1997   美丽人生   327855  剧情/喜剧/爱情  1997-12-20 00:00:00  116  9.5    意大利   \n",
       "2    美国  1994    阿甘正传  580897     剧情/爱情  1994-06-23 00:00:00  142  9.4  洛杉矶首映   \n",
       "3  中国大陆  1993    霸王别姬  478523  剧情/爱情/同性  1993-01-01 00:00:00  171  9.4     香港   \n",
       "4    美国  2012  泰坦尼克号   157074  剧情/爱情/灾难  2012-04-10 00:00:00  194  9.4   中国大陆   \n",
       "\n",
       "  评分等级 热门程度  \n",
       "0    A    A  \n",
       "1    A    A  \n",
       "2    A    A  \n",
       "3    A    A  \n",
       "4    A    A  "
      ]
     },
     "execution_count": 50,
     "metadata": {},
     "output_type": "execute_result"
    }
   ],
   "source": [
    "df[:5]"
   ]
  },
  {
   "cell_type": "markdown",
   "metadata": {},
   "source": [
    "### (1) 绘制每个国家或地区的电影数量的柱状图"
   ]
  },
  {
   "cell_type": "markdown",
   "metadata": {},
   "source": [
    "\n",
    "柱状图(bar chart)，是一种以长方形的长度为变量的表达图形的统计报告图，由一系列高度不等的纵向条纹表示数据分布的情况，用来比较两个或以上的价值（不同时间或者不同条件），只有一个变量，通常利用较小的数据集分析。柱状图亦可横向排列，或用多维方式表达。"
   ]
  },
  {
   "cell_type": "code",
   "execution_count": 66,
   "metadata": {},
   "outputs": [
    {
     "name": "stdout",
     "output_type": "stream",
     "text": [
      "<class 'pandas.core.series.Series'>\n"
     ]
    },
    {
     "data": {
      "text/plain": [
       "美国      11979\n",
       "日本       5052\n",
       "中国大陆     3802\n",
       "中国香港     2852\n",
       "法国       2817\n",
       "英国       2762\n",
       "其他       1920\n",
       "韩国       1351\n",
       "德国       1032\n",
       "意大利       749\n",
       "加拿大       723\n",
       "中国台湾      618\n",
       "俄罗斯       477\n",
       "西班牙       447\n",
       "印度        357\n",
       "澳大利亚      300\n",
       "泰国        294\n",
       "丹麦        198\n",
       "瑞典        192\n",
       "波兰        181\n",
       "荷兰        155\n",
       "比利时       139\n",
       "墨西哥       119\n",
       "阿根廷       116\n",
       "巴西        101\n",
       "Name: 产地, dtype: int64"
      ]
     },
     "execution_count": 66,
     "metadata": {},
     "output_type": "execute_result"
    }
   ],
   "source": [
    "data = df[\"产地\"].value_counts()\n",
    "print(type(data))\n",
    "data"
   ]
  },
  {
   "cell_type": "code",
   "execution_count": 75,
   "metadata": {},
   "outputs": [
    {
     "data": {
      "image/png": "[encoded data removed]",
      "text/plain": [
       "<Figure size 720x432 with 1 Axes>"
      ]
     },
     "metadata": {
      "needs_background": "light"
     },
     "output_type": "display_data"
    }
   ],
   "source": [
    "x = data.index\n",
    "y = data.values\n",
    "\n",
    "plt.figure(figsize = (10,6)) #设置图片大小\n",
    "plt.bar(x,y,color = \"g\") #绘制柱状图，表格给的数据是怎样就怎样，不会自动排序\n",
    "\n",
    "plt.title(\"各国家或地区电影数量\", fontsize = 20) #设置标题\n",
    "plt.xlabel(\"国家或地区\",fontsize = 18) \n",
    "plt.ylabel(\"电影数量\") #对横纵轴进行说明\n",
    "plt.tick_params(labelsize = 10) #设置标签字体大小\n",
    "plt.xticks(rotation = 90) #标签转90度\n",
    "\n",
    "for a,b in zip(x,y): #数字直接显示在柱子上（添加文本）\n",
    "    #a:x的位置，b:y的位置，加上10是为了展示位置高一点点不重合，\n",
    "    #第二个b:显示的文本的内容,ha,va:格式设定,center居中,top&bottom在上或者在下,fontsize:字体指定\n",
    "    plt.text(a,b+10,b,ha = \"center\",va = \"bottom\",fontsize = 10) \n",
    "\n",
    "#plt.grid() #画网格线，有失美观因而注释点\n",
    "\n",
    "plt.show()"
   ]
  },
  {
   "cell_type": "markdown",
   "metadata": {},
   "source": [
    "### (2) 绘制每年上映的电影数量的曲线图"
   ]
  },
  {
   "cell_type": "markdown",
   "metadata": {},
   "source": [
    "曲线图又称折线图，是利用曲线的升，降变化来表示被研究现象发展趋势的一种图形。它在分析研究社会经济现象的发展变化、依存关系等方面具有重要作用。\n",
    "\n",
    "绘制曲线图时，如果是某一现象的时间指标，应将时间绘在坐标的横轴上，指标绘在坐标的纵轴上。如果是两个现象依存关系的显示，可以将表示原因的指标绘在横轴上，表示结果的指标绘在纵轴上，同时还应注意整个图形的长宽比例。"
   ]
  },
  {
   "cell_type": "markdown",
   "metadata": {},
   "source": [
    "### 1888-2015年 "
   ]
  },
  {
   "cell_type": "code",
   "execution_count": 77,
   "metadata": {},
   "outputs": [
    {
     "data": {
      "text/plain": [
       "1888       2\n",
       "1890       1\n",
       "1892       1\n",
       "1894       3\n",
       "1895       8\n",
       "        ... \n",
       "2011    1866\n",
       "2012    2042\n",
       "2013    2001\n",
       "2014    1887\n",
       "2015    1592\n",
       "Name: 年代, Length: 125, dtype: int64"
      ]
     },
     "execution_count": 77,
     "metadata": {},
     "output_type": "execute_result"
    }
   ],
   "source": [
    "data = df[\"年代\"].value_counts()\n",
    "data = data.sort_index()[:-2] #排除掉2016年以后的数据，共两条\n",
    "data"
   ]
  },
  {
   "cell_type": "code",
   "execution_count": 78,
   "metadata": {},
   "outputs": [
    {
     "data": {
      "image/png": "[encoded data removed]",
      "text/plain": [
       "<Figure size 432x288 with 1 Axes>"
      ]
     },
     "metadata": {
      "needs_background": "light"
     },
     "output_type": "display_data"
    }
   ],
   "source": [
    "x = data.index\n",
    "y = data.values\n",
    "\n",
    "plt.plot(x,y,color = 'b')\n",
    "plt.title(\"每年电影数量\",fontsize = 20)\n",
    "plt.ylabel(\"电影数量\",fontsize = 18)\n",
    "plt.xlabel(\"年份\",fontsize = 18)\n",
    "\n",
    "for (a,b) in zip(x[::10],y[::10]): #每隔10年进行数量标记，防止过于密集\n",
    "    plt.text(a,b+10,b,ha = \"center\", va = \"bottom\", fontsize = 10)\n",
    "    \n",
    "#标记特殊点如极值点，xy设置箭头尖的坐标，xytext注释内容起始位置，arrowprops对箭头设置，传字典，facecolor填充颜色，edgecolor边框颜色\n",
    "plt.annotate(\"2012年达到最大值\", xy = (2012,data[2012]), xytext = (2025,2100), arrowprops = dict(facecolor = \"black\",edgecolor = \"red\"))\n",
    "\n",
    "#纯文本注释内容，例如注释增长最快的地方\n",
    "plt.text(1980,1000,\"电影数量开始快速增长aaa\")\n",
    "plt.show()"
   ]
  },
  {
   "cell_type": "markdown",
   "metadata": {},
   "source": [
    "对于这幅图形，我们使用``xlabel, ylabel, title, text``方法设置了文字，其中：\n",
    "\n",
    "* ``xlabel``: x轴标注\n",
    "* ``ylabel``: y轴标注\n",
    "* ``title``: 图形标题\n",
    "* ``text``: 在指定位置放入文字\n",
    "\n",
    "输入特殊符号支持使用``Tex``语法，用``$<some Text code>$``隔开。\n",
    "\n",
    "除了使用``text``在指定位置标上文字之外，还可以使用``annotate``进行注释，``annotate``主要有两个参数：\n",
    "\n",
    "* ``xy``: 注释位置\n",
    "* ``xytext``: 注释文字位置"
   ]
  },
  {
   "cell_type": "markdown",
   "metadata": {},
   "source": [
    "从上图可以看出，电影数量是逐年增加的，增长的趋势在2000年都变得飞快 "
   ]
  },
  {
   "cell_type": "markdown",
   "metadata": {},
   "source": [
    "### (3) 根据电影的长度绘制饼图 "
   ]
  },
  {
   "cell_type": "markdown",
   "metadata": {},
   "source": [
    "饼图英文学名为Sector Graph，又名Pie Graph。常用于统计学模块。2D饼图为圆形，手画时，常用圆规作图。\n",
    "\n",
    "仅排列在工作表的一列或一行中的数据可以绘制到饼图中。饼图显示一个数据系列（数据系列：在图表中绘制的相关数据点，这些数据源自数据表的行或列。图表中的每个数据系列具有唯一的颜色或团并且在图表中的图例中表示。可以在图表中绘制一个或多个数据系列。饼图只有一个数据系列。）中各项的大小与各项总和的比例。饼图中的数据点（数据点：在图表中绘制的单个值，这些值由条形，柱形，折线，饼图或圆环图的扇面、圆点和其他被称为数据标记的图形表示。相同颜色的数据标记组成一个数据系列。）显示为整个饼图的百分比。\n",
    "\n",
    "**函数原型：**\n",
    "\n",
    "```python\n",
    "pie(x, explode = None, labels = None, colors = None, autopct = None, pctdistance = 0.6,\n",
    "    shadow = False, labeldistance = 1.1, startangle = None, radius = None)\n",
    "```\n",
    "\n",
    "**参数：**  \n",
    "**x：** (每一块）的比例，如果sum(x)>1会使用sum(x)归一化  \n",
    "**labels：** （每一块）饼图外侧显示的说明文字  \n",
    "**explode：** （每一块）离开中心距离  \n",
    "**startangle：** 起始绘制角度，默认图是从x轴正方向逆时针画起，如设定=90则从y轴正方向画起   \n",
    "**shadow：** 是否阴影  \n",
    "**labeldistance：** label绘制位置，相对于半径的比例，如<1则绘制在饼图内侧  \n",
    "**autopct：** 控制饼图内百分比设置，可以使用format字符串或者format function  \n",
    "**'%1.1f'：** 指小数点前后位数（没有用空格补齐）  \n",
    "**pctdistance：** 类似于labeldistance，指定autopct的位置刻度  \n",
    "**radius：** 控制饼图半径\n",
    "\n",
    "**返回值：**  \n",
    "如果没有设置autopct，返回(patches,texts)  \n",
    "如果设置autopct，返回(patches,texts,autotexts)"
   ]
  },
  {
   "cell_type": "code",
   "execution_count": 79,
   "metadata": {},
   "outputs": [
    {
     "data": {
      "text/plain": [
       "(90, 110]      13232\n",
       "(0, 60]        10323\n",
       "(60, 90]        7727\n",
       "(110, 1000]     7451\n",
       "Name: 时长, dtype: int64"
      ]
     },
     "execution_count": 79,
     "metadata": {},
     "output_type": "execute_result"
    }
   ],
   "source": [
    "data = pd.cut(df[\"时长\"], [0,60,90,110,1000]).value_counts() #数据离散化\n",
    "data"
   ]
  },
  {
   "cell_type": "code",
   "execution_count": 82,
   "metadata": {},
   "outputs": [
    {
     "data": {
      "image/png": "[encoded data removed]",
      "text/plain": [
       "<Figure size 504x504 with 1 Axes>"
      ]
     },
     "metadata": {},
     "output_type": "display_data"
    }
   ],
   "source": [
    "y = data.values\n",
    "y = y/sum(y) #归一化，不进行的话系统会自动进行\n",
    "\n",
    "plt.figure(figsize = (7,7))\n",
    "plt.title(\"电影时长占比\",fontsize = 15)\n",
    "patches,l_text,p_text = plt.pie(y, labels = data.index, autopct = \"%.1f %%\", colors = \"bygr\", startangle = 90)\n",
    "\n",
    "for i in p_text: #通过返回值设置饼图内部字体\n",
    "    i.set_size(15)\n",
    "    i.set_color('w')\n",
    "\n",
    "for i in l_text: #通过返回值设置饼图外部字体\n",
    "    i.set_size(15)\n",
    "    i.set_color('r')\n",
    "    \n",
    "plt.legend() #图例\n",
    "plt.show()"
   ]
  },
  {
   "cell_type": "markdown",
   "metadata": {},
   "source": [
    "### (4) 根据电影的评分绘制频率直方图 "
   ]
  },
  {
   "cell_type": "markdown",
   "metadata": {},
   "source": [
    "直方图(Histogram)又称质量分布图。是一种统计报告图。由一系列高度不等的纵向条纹或线段表示数据分布的情况。一般用横轴表示数据类型，纵轴表示分布情况。\n",
    "\n",
    "直方图是数值数据分布的精确图形表示。这是一个连续变量（定量变量）的概率分布的估计，并且被卡尔·皮尔逊(Karl Pearson)首先引入。它是一种条形图。为了构建直方图，第一步是将值的范围分段，即将整个值的范围分成一系列间隔，然后计算每个间隔中有多少值。这些值通常被指定为连续的，不重叠的变量间隔。间隔必须相邻，并且通常是（但不是必须的）相等的大小。\n",
    "\n",
    "直方图也可以被归一化以显示“相对频率”。然后，它显示了属于几个类别中每个案例的比例，其高度等于1。"
   ]
  },
  {
   "cell_type": "code",
   "execution_count": 9,
   "metadata": {},
   "outputs": [
    {
     "data": {
      "image/png": "[encoded data removed]",
      "text/plain": [
       "<Figure size 720x432 with 1 Axes>"
      ]
     },
     "metadata": {
      "needs_background": "light"
     },
     "output_type": "display_data"
    }
   ],
   "source": [
    "plt.figure(figsize = (10,6))\n",
    "plt.hist(df[\"评分\"], bins = 20, edgecolor = 'k',alpha = 0.5)\n",
    "plt.show()"
   ]
  },
  {
   "cell_type": "markdown",
   "metadata": {},
   "source": [
    "hist的参数非常多，但常用的就这六个，只有第一个是必须的，后面可选\n",
    "\n",
    "arr: 需要计算直方图的一维数组\n",
    "\n",
    "bins: 直方图的柱数，可选项，默认为10\n",
    "\n",
    "normed: 是否将得到的直方图向量归一化。默认为0\n",
    "\n",
    "facecolor: 直方图颜色\n",
    "\n",
    "edgecolor: 直方图边框颜色\n",
    "\n",
    "alpha: 透明度\n",
    "\n",
    "histtype: 直方图类型，\"bar\", \"barstacked\", \"step\", \"stepfilled\"\n",
    "\n",
    "返回值：\n",
    "\n",
    "n: 直方图向量，是否归一化由参数normed设定\n",
    "\n",
    "bins: 返回各个bin的区间范围\n",
    "\n",
    "patches: 返回每一个bin里面包含的数据，是一个list"
   ]
  },
  {
   "cell_type": "markdown",
   "metadata": {},
   "source": [
    "### 从上图我们可以发现，电影的评分是服从一个右偏的正态分布的。 "
   ]
  }
 ],
 "metadata": {
  "kernelspec": {
   "display_name": "Python 3.9.12 ('base')",
   "language": "python",
   "name": "python3"
  },
  "language_info": {
   "codemirror_mode": {
    "name": "ipython",
    "version": 3
   },
   "file_extension": ".py",
   "mimetype": "text/x-python",
   "name": "python",
   "nbconvert_exporter": "python",
   "pygments_lexer": "ipython3",
   "version": "3.9.12"
  },
  "vscode": {
   "interpreter": {
    "hash": "751571c89d06b502b817d280f888290cbda9df1c16455be26d1d895c492b1367"
   }
  }
 },
 "nbformat": 4,
 "nbformat_minor": 4
}
